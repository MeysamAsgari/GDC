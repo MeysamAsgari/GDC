{
 "cells": [
  {
   "cell_type": "code",
   "execution_count": 1,
   "metadata": {},
   "outputs": [
    {
     "name": "stdout",
     "output_type": "stream",
     "text": [
      "No GPUs available.\n"
     ]
    }
   ],
   "source": [
    "import torch\n",
    "\n",
    "if torch.cuda.is_available():\n",
    "  num_gpus = torch.cuda.device_count()\n",
    "  print(f\"Number of GPUs available: {num_gpus}\")\n",
    "else:\n",
    "  print(\"No GPUs available.\")"
   ]
  },
  {
   "cell_type": "code",
   "execution_count": 4,
   "metadata": {},
   "outputs": [],
   "source": [
    "import sys\n",
    "import pickle as pkl\n",
    "\n",
    "objects = []\n",
    "with open(\"data/ind.{}.{}\".format('cora','graph'), 'rb') as f:\n",
    "            if sys.version_info > (3, 0):\n",
    "                objects.append(pkl.load(f, encoding='latin1'))\n",
    "            else:\n",
    "                objects.append(pkl.load(f))\n",
    "    \n",
    "graph = tuple(objects)"
   ]
  },
  {
   "cell_type": "code",
   "execution_count": 13,
   "metadata": {},
   "outputs": [
    {
     "ename": "AttributeError",
     "evalue": "'tuple' object has no attribute 'keys'",
     "output_type": "error",
     "traceback": [
      "\u001b[0;31m---------------------------------------------------------------------------\u001b[0m",
      "\u001b[0;31mAttributeError\u001b[0m                            Traceback (most recent call last)",
      "Cell \u001b[0;32mIn[13], line 6\u001b[0m\n\u001b[1;32m      1\u001b[0m \u001b[38;5;66;03m# graph\u001b[39;00m\n\u001b[1;32m      2\u001b[0m \u001b[38;5;66;03m# with open(\"graph.txt\",\"w\") as f:\u001b[39;00m\n\u001b[1;32m      3\u001b[0m \u001b[38;5;66;03m#     print (graph)\u001b[39;00m\n\u001b[1;32m      4\u001b[0m \u001b[38;5;66;03m# print(type(graph))\u001b[39;00m\n\u001b[0;32m----> 6\u001b[0m largest_key \u001b[38;5;241m=\u001b[39m \u001b[38;5;28mmax\u001b[39m(\u001b[43mgraph\u001b[49m\u001b[38;5;241;43m.\u001b[39;49m\u001b[43mkeys\u001b[49m())\n\u001b[1;32m      8\u001b[0m \u001b[38;5;28mprint\u001b[39m(largest_key)\n",
      "\u001b[0;31mAttributeError\u001b[0m: 'tuple' object has no attribute 'keys'"
     ]
    }
   ],
   "source": [
    "# graph\n",
    "# with open(\"graph.txt\",\"w\") as f:\n",
    "#     print (graph)\n",
    "# print(type(graph))\n",
    "\n",
    "largest_key = max(graph.keys())\n",
    "\n",
    "print(largest_key)"
   ]
  },
  {
   "cell_type": "code",
   "execution_count": 14,
   "metadata": {},
   "outputs": [
    {
     "name": "stdout",
     "output_type": "stream",
     "text": [
      "True\n"
     ]
    }
   ],
   "source": [
    "def is_tuple_or_list_of_tuples(obj):\n",
    "  \"\"\"Checks if the object is a tuple or a list of tuples.\n",
    "\n",
    "  Args:\n",
    "      obj: The object to check.\n",
    "\n",
    "  Returns:\n",
    "      True if the object is a tuple or a list of tuples, False otherwise.\n",
    "  \"\"\"\n",
    "\n",
    "  if isinstance(obj, tuple):\n",
    "    return True\n",
    "  elif isinstance(obj, list):\n",
    "    # Check if all elements in the list are tuples\n",
    "    return all(isinstance(item, tuple) for item in obj)\n",
    "  else:\n",
    "    return False\n",
    "\n",
    "print(is_tuple_or_list_of_tuples(graph))"
   ]
  }
 ],
 "metadata": {
  "kernelspec": {
   "display_name": ".gdc_p30810",
   "language": "python",
   "name": "python3"
  },
  "language_info": {
   "codemirror_mode": {
    "name": "ipython",
    "version": 3
   },
   "file_extension": ".py",
   "mimetype": "text/x-python",
   "name": "python",
   "nbconvert_exporter": "python",
   "pygments_lexer": "ipython3",
   "version": "3.8.10"
  }
 },
 "nbformat": 4,
 "nbformat_minor": 2
}
